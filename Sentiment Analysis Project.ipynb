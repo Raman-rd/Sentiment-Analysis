{
 "cells": [
  {
   "cell_type": "code",
   "execution_count": 10,
   "metadata": {},
   "outputs": [
    {
     "name": "stderr",
     "output_type": "stream",
     "text": [
      "[nltk_data] Downloading package vader_lexicon to\n",
      "[nltk_data]     C:\\Users\\HP\\AppData\\Roaming\\nltk_data...\n"
     ]
    },
    {
     "data": {
      "text/plain": [
       "True"
      ]
     },
     "execution_count": 10,
     "metadata": {},
     "output_type": "execute_result"
    }
   ],
   "source": [
    "import pandas as pd \n",
    "import numpy as np\n",
    "import nltk\n",
    "nltk.download('vader_lexicon')"
   ]
  },
  {
   "cell_type": "code",
   "execution_count": 4,
   "metadata": {},
   "outputs": [],
   "source": [
    "df=pd.read_csv('../TextFiles/moviereviews2.tsv',sep='\\t')"
   ]
  },
  {
   "cell_type": "code",
   "execution_count": 5,
   "metadata": {},
   "outputs": [
    {
     "data": {
      "text/html": [
       "<div>\n",
       "<style scoped>\n",
       "    .dataframe tbody tr th:only-of-type {\n",
       "        vertical-align: middle;\n",
       "    }\n",
       "\n",
       "    .dataframe tbody tr th {\n",
       "        vertical-align: top;\n",
       "    }\n",
       "\n",
       "    .dataframe thead th {\n",
       "        text-align: right;\n",
       "    }\n",
       "</style>\n",
       "<table border=\"1\" class=\"dataframe\">\n",
       "  <thead>\n",
       "    <tr style=\"text-align: right;\">\n",
       "      <th></th>\n",
       "      <th>label</th>\n",
       "      <th>review</th>\n",
       "    </tr>\n",
       "  </thead>\n",
       "  <tbody>\n",
       "    <tr>\n",
       "      <th>0</th>\n",
       "      <td>pos</td>\n",
       "      <td>I loved this movie and will watch it again. Or...</td>\n",
       "    </tr>\n",
       "    <tr>\n",
       "      <th>1</th>\n",
       "      <td>pos</td>\n",
       "      <td>A warm, touching movie that has a fantasy-like...</td>\n",
       "    </tr>\n",
       "    <tr>\n",
       "      <th>2</th>\n",
       "      <td>pos</td>\n",
       "      <td>I was not expecting the powerful filmmaking ex...</td>\n",
       "    </tr>\n",
       "    <tr>\n",
       "      <th>3</th>\n",
       "      <td>neg</td>\n",
       "      <td>This so-called \"documentary\" tries to tell tha...</td>\n",
       "    </tr>\n",
       "    <tr>\n",
       "      <th>4</th>\n",
       "      <td>pos</td>\n",
       "      <td>This show has been my escape from reality for ...</td>\n",
       "    </tr>\n",
       "  </tbody>\n",
       "</table>\n",
       "</div>"
      ],
      "text/plain": [
       "  label                                             review\n",
       "0   pos  I loved this movie and will watch it again. Or...\n",
       "1   pos  A warm, touching movie that has a fantasy-like...\n",
       "2   pos  I was not expecting the powerful filmmaking ex...\n",
       "3   neg  This so-called \"documentary\" tries to tell tha...\n",
       "4   pos  This show has been my escape from reality for ..."
      ]
     },
     "execution_count": 5,
     "metadata": {},
     "output_type": "execute_result"
    }
   ],
   "source": [
    "df.head()"
   ]
  },
  {
   "cell_type": "code",
   "execution_count": 6,
   "metadata": {},
   "outputs": [],
   "source": [
    "df.dropna(inplace=True)"
   ]
  },
  {
   "cell_type": "code",
   "execution_count": 7,
   "metadata": {},
   "outputs": [],
   "source": [
    "blanks=[]\n",
    "for i,lb,rv in df.itertuples():\n",
    "    if type(rv)==str:\n",
    "        if rv.isspace():\n",
    "            blanks.append(i)"
   ]
  },
  {
   "cell_type": "code",
   "execution_count": 8,
   "metadata": {},
   "outputs": [
    {
     "data": {
      "text/plain": [
       "[]"
      ]
     },
     "execution_count": 8,
     "metadata": {},
     "output_type": "execute_result"
    }
   ],
   "source": [
    "blanks"
   ]
  },
  {
   "cell_type": "code",
   "execution_count": 9,
   "metadata": {},
   "outputs": [
    {
     "data": {
      "text/plain": [
       "<bound method IndexOpsMixin.value_counts of 0       pos\n",
       "1       pos\n",
       "2       pos\n",
       "3       neg\n",
       "4       pos\n",
       "       ... \n",
       "5995    pos\n",
       "5996    neg\n",
       "5997    neg\n",
       "5998    pos\n",
       "5999    pos\n",
       "Name: label, Length: 5980, dtype: object>"
      ]
     },
     "execution_count": 9,
     "metadata": {},
     "output_type": "execute_result"
    }
   ],
   "source": [
    "df['label'].value_counts"
   ]
  },
  {
   "cell_type": "code",
   "execution_count": 11,
   "metadata": {},
   "outputs": [],
   "source": [
    "from nltk.sentiment.vader import SentimentIntensityAnalyzer"
   ]
  },
  {
   "cell_type": "code",
   "execution_count": 12,
   "metadata": {},
   "outputs": [],
   "source": [
    "sid=SentimentIntensityAnalyzer()"
   ]
  },
  {
   "cell_type": "code",
   "execution_count": 15,
   "metadata": {},
   "outputs": [],
   "source": [
    "df['score']=df['review'].apply(lambda review: sid.polarity_scores(review))"
   ]
  },
  {
   "cell_type": "code",
   "execution_count": 17,
   "metadata": {},
   "outputs": [],
   "source": [
    "df['compound']=df['score'].apply(lambda d:d['compound'])"
   ]
  },
  {
   "cell_type": "code",
   "execution_count": 18,
   "metadata": {},
   "outputs": [
    {
     "data": {
      "text/html": [
       "<div>\n",
       "<style scoped>\n",
       "    .dataframe tbody tr th:only-of-type {\n",
       "        vertical-align: middle;\n",
       "    }\n",
       "\n",
       "    .dataframe tbody tr th {\n",
       "        vertical-align: top;\n",
       "    }\n",
       "\n",
       "    .dataframe thead th {\n",
       "        text-align: right;\n",
       "    }\n",
       "</style>\n",
       "<table border=\"1\" class=\"dataframe\">\n",
       "  <thead>\n",
       "    <tr style=\"text-align: right;\">\n",
       "      <th></th>\n",
       "      <th>label</th>\n",
       "      <th>review</th>\n",
       "      <th>score</th>\n",
       "      <th>compound</th>\n",
       "    </tr>\n",
       "  </thead>\n",
       "  <tbody>\n",
       "    <tr>\n",
       "      <th>0</th>\n",
       "      <td>pos</td>\n",
       "      <td>I loved this movie and will watch it again. Or...</td>\n",
       "      <td>{'neg': 0.062, 'neu': 0.695, 'pos': 0.243, 'co...</td>\n",
       "      <td>0.8720</td>\n",
       "    </tr>\n",
       "    <tr>\n",
       "      <th>1</th>\n",
       "      <td>pos</td>\n",
       "      <td>A warm, touching movie that has a fantasy-like...</td>\n",
       "      <td>{'neg': 0.033, 'neu': 0.783, 'pos': 0.184, 'co...</td>\n",
       "      <td>0.9549</td>\n",
       "    </tr>\n",
       "    <tr>\n",
       "      <th>2</th>\n",
       "      <td>pos</td>\n",
       "      <td>I was not expecting the powerful filmmaking ex...</td>\n",
       "      <td>{'neg': 0.097, 'neu': 0.795, 'pos': 0.108, 'co...</td>\n",
       "      <td>0.7201</td>\n",
       "    </tr>\n",
       "    <tr>\n",
       "      <th>3</th>\n",
       "      <td>neg</td>\n",
       "      <td>This so-called \"documentary\" tries to tell tha...</td>\n",
       "      <td>{'neg': 0.116, 'neu': 0.832, 'pos': 0.052, 'co...</td>\n",
       "      <td>-0.9821</td>\n",
       "    </tr>\n",
       "    <tr>\n",
       "      <th>4</th>\n",
       "      <td>pos</td>\n",
       "      <td>This show has been my escape from reality for ...</td>\n",
       "      <td>{'neg': 0.031, 'neu': 0.796, 'pos': 0.173, 'co...</td>\n",
       "      <td>0.9874</td>\n",
       "    </tr>\n",
       "  </tbody>\n",
       "</table>\n",
       "</div>"
      ],
      "text/plain": [
       "  label                                             review  \\\n",
       "0   pos  I loved this movie and will watch it again. Or...   \n",
       "1   pos  A warm, touching movie that has a fantasy-like...   \n",
       "2   pos  I was not expecting the powerful filmmaking ex...   \n",
       "3   neg  This so-called \"documentary\" tries to tell tha...   \n",
       "4   pos  This show has been my escape from reality for ...   \n",
       "\n",
       "                                               score  compound  \n",
       "0  {'neg': 0.062, 'neu': 0.695, 'pos': 0.243, 'co...    0.8720  \n",
       "1  {'neg': 0.033, 'neu': 0.783, 'pos': 0.184, 'co...    0.9549  \n",
       "2  {'neg': 0.097, 'neu': 0.795, 'pos': 0.108, 'co...    0.7201  \n",
       "3  {'neg': 0.116, 'neu': 0.832, 'pos': 0.052, 'co...   -0.9821  \n",
       "4  {'neg': 0.031, 'neu': 0.796, 'pos': 0.173, 'co...    0.9874  "
      ]
     },
     "execution_count": 18,
     "metadata": {},
     "output_type": "execute_result"
    }
   ],
   "source": [
    "df.head()"
   ]
  },
  {
   "cell_type": "code",
   "execution_count": 20,
   "metadata": {},
   "outputs": [],
   "source": [
    "df['comp_score']=df['compound'].apply(lambda score:'pos' if score >= 0 else 'neg')"
   ]
  },
  {
   "cell_type": "code",
   "execution_count": 21,
   "metadata": {},
   "outputs": [
    {
     "data": {
      "text/html": [
       "<div>\n",
       "<style scoped>\n",
       "    .dataframe tbody tr th:only-of-type {\n",
       "        vertical-align: middle;\n",
       "    }\n",
       "\n",
       "    .dataframe tbody tr th {\n",
       "        vertical-align: top;\n",
       "    }\n",
       "\n",
       "    .dataframe thead th {\n",
       "        text-align: right;\n",
       "    }\n",
       "</style>\n",
       "<table border=\"1\" class=\"dataframe\">\n",
       "  <thead>\n",
       "    <tr style=\"text-align: right;\">\n",
       "      <th></th>\n",
       "      <th>label</th>\n",
       "      <th>review</th>\n",
       "      <th>score</th>\n",
       "      <th>compound</th>\n",
       "      <th>comp_score</th>\n",
       "    </tr>\n",
       "  </thead>\n",
       "  <tbody>\n",
       "    <tr>\n",
       "      <th>0</th>\n",
       "      <td>pos</td>\n",
       "      <td>I loved this movie and will watch it again. Or...</td>\n",
       "      <td>{'neg': 0.062, 'neu': 0.695, 'pos': 0.243, 'co...</td>\n",
       "      <td>0.8720</td>\n",
       "      <td>pos</td>\n",
       "    </tr>\n",
       "    <tr>\n",
       "      <th>1</th>\n",
       "      <td>pos</td>\n",
       "      <td>A warm, touching movie that has a fantasy-like...</td>\n",
       "      <td>{'neg': 0.033, 'neu': 0.783, 'pos': 0.184, 'co...</td>\n",
       "      <td>0.9549</td>\n",
       "      <td>pos</td>\n",
       "    </tr>\n",
       "    <tr>\n",
       "      <th>2</th>\n",
       "      <td>pos</td>\n",
       "      <td>I was not expecting the powerful filmmaking ex...</td>\n",
       "      <td>{'neg': 0.097, 'neu': 0.795, 'pos': 0.108, 'co...</td>\n",
       "      <td>0.7201</td>\n",
       "      <td>pos</td>\n",
       "    </tr>\n",
       "    <tr>\n",
       "      <th>3</th>\n",
       "      <td>neg</td>\n",
       "      <td>This so-called \"documentary\" tries to tell tha...</td>\n",
       "      <td>{'neg': 0.116, 'neu': 0.832, 'pos': 0.052, 'co...</td>\n",
       "      <td>-0.9821</td>\n",
       "      <td>neg</td>\n",
       "    </tr>\n",
       "    <tr>\n",
       "      <th>4</th>\n",
       "      <td>pos</td>\n",
       "      <td>This show has been my escape from reality for ...</td>\n",
       "      <td>{'neg': 0.031, 'neu': 0.796, 'pos': 0.173, 'co...</td>\n",
       "      <td>0.9874</td>\n",
       "      <td>pos</td>\n",
       "    </tr>\n",
       "    <tr>\n",
       "      <th>...</th>\n",
       "      <td>...</td>\n",
       "      <td>...</td>\n",
       "      <td>...</td>\n",
       "      <td>...</td>\n",
       "      <td>...</td>\n",
       "    </tr>\n",
       "    <tr>\n",
       "      <th>5995</th>\n",
       "      <td>pos</td>\n",
       "      <td>Of the three remakes of this plot, I like them...</td>\n",
       "      <td>{'neg': 0.028, 'neu': 0.825, 'pos': 0.148, 'co...</td>\n",
       "      <td>0.9377</td>\n",
       "      <td>pos</td>\n",
       "    </tr>\n",
       "    <tr>\n",
       "      <th>5996</th>\n",
       "      <td>neg</td>\n",
       "      <td>Poor Whoopi Goldberg. Imagine her at a friend'...</td>\n",
       "      <td>{'neg': 0.181, 'neu': 0.776, 'pos': 0.043, 'co...</td>\n",
       "      <td>-0.9578</td>\n",
       "      <td>neg</td>\n",
       "    </tr>\n",
       "    <tr>\n",
       "      <th>5997</th>\n",
       "      <td>neg</td>\n",
       "      <td>Honestly before I watched this movie, I had he...</td>\n",
       "      <td>{'neg': 0.057, 'neu': 0.78, 'pos': 0.163, 'com...</td>\n",
       "      <td>0.9856</td>\n",
       "      <td>pos</td>\n",
       "    </tr>\n",
       "    <tr>\n",
       "      <th>5998</th>\n",
       "      <td>pos</td>\n",
       "      <td>This movie is essentially shot on a hand held ...</td>\n",
       "      <td>{'neg': 0.073, 'neu': 0.862, 'pos': 0.065, 'co...</td>\n",
       "      <td>-0.1010</td>\n",
       "      <td>neg</td>\n",
       "    </tr>\n",
       "    <tr>\n",
       "      <th>5999</th>\n",
       "      <td>pos</td>\n",
       "      <td>It has singing. It has drama. It has comedy. I...</td>\n",
       "      <td>{'neg': 0.039, 'neu': 0.762, 'pos': 0.199, 'co...</td>\n",
       "      <td>0.9896</td>\n",
       "      <td>pos</td>\n",
       "    </tr>\n",
       "  </tbody>\n",
       "</table>\n",
       "<p>5980 rows × 5 columns</p>\n",
       "</div>"
      ],
      "text/plain": [
       "     label                                             review  \\\n",
       "0      pos  I loved this movie and will watch it again. Or...   \n",
       "1      pos  A warm, touching movie that has a fantasy-like...   \n",
       "2      pos  I was not expecting the powerful filmmaking ex...   \n",
       "3      neg  This so-called \"documentary\" tries to tell tha...   \n",
       "4      pos  This show has been my escape from reality for ...   \n",
       "...    ...                                                ...   \n",
       "5995   pos  Of the three remakes of this plot, I like them...   \n",
       "5996   neg  Poor Whoopi Goldberg. Imagine her at a friend'...   \n",
       "5997   neg  Honestly before I watched this movie, I had he...   \n",
       "5998   pos  This movie is essentially shot on a hand held ...   \n",
       "5999   pos  It has singing. It has drama. It has comedy. I...   \n",
       "\n",
       "                                                  score  compound comp_score  \n",
       "0     {'neg': 0.062, 'neu': 0.695, 'pos': 0.243, 'co...    0.8720        pos  \n",
       "1     {'neg': 0.033, 'neu': 0.783, 'pos': 0.184, 'co...    0.9549        pos  \n",
       "2     {'neg': 0.097, 'neu': 0.795, 'pos': 0.108, 'co...    0.7201        pos  \n",
       "3     {'neg': 0.116, 'neu': 0.832, 'pos': 0.052, 'co...   -0.9821        neg  \n",
       "4     {'neg': 0.031, 'neu': 0.796, 'pos': 0.173, 'co...    0.9874        pos  \n",
       "...                                                 ...       ...        ...  \n",
       "5995  {'neg': 0.028, 'neu': 0.825, 'pos': 0.148, 'co...    0.9377        pos  \n",
       "5996  {'neg': 0.181, 'neu': 0.776, 'pos': 0.043, 'co...   -0.9578        neg  \n",
       "5997  {'neg': 0.057, 'neu': 0.78, 'pos': 0.163, 'com...    0.9856        pos  \n",
       "5998  {'neg': 0.073, 'neu': 0.862, 'pos': 0.065, 'co...   -0.1010        neg  \n",
       "5999  {'neg': 0.039, 'neu': 0.762, 'pos': 0.199, 'co...    0.9896        pos  \n",
       "\n",
       "[5980 rows x 5 columns]"
      ]
     },
     "execution_count": 21,
     "metadata": {},
     "output_type": "execute_result"
    }
   ],
   "source": [
    "df"
   ]
  },
  {
   "cell_type": "code",
   "execution_count": 22,
   "metadata": {},
   "outputs": [],
   "source": [
    "from sklearn.metrics import accuracy_score,confusion_matrix,classification_report"
   ]
  },
  {
   "cell_type": "code",
   "execution_count": 24,
   "metadata": {},
   "outputs": [
    {
     "data": {
      "text/plain": [
       "0.7319397993311036"
      ]
     },
     "execution_count": 24,
     "metadata": {},
     "output_type": "execute_result"
    }
   ],
   "source": [
    "accuracy_score(df['label'],df['comp_score'])"
   ]
  },
  {
   "cell_type": "code",
   "execution_count": 25,
   "metadata": {},
   "outputs": [
    {
     "name": "stdout",
     "output_type": "stream",
     "text": [
      "              precision    recall  f1-score   support\n",
      "\n",
      "         neg       0.83      0.58      0.68      2990\n",
      "         pos       0.68      0.88      0.77      2990\n",
      "\n",
      "    accuracy                           0.73      5980\n",
      "   macro avg       0.76      0.73      0.73      5980\n",
      "weighted avg       0.76      0.73      0.73      5980\n",
      "\n"
     ]
    }
   ],
   "source": [
    "print(classification_report(df['label'],df['comp_score']))"
   ]
  },
  {
   "cell_type": "code",
   "execution_count": null,
   "metadata": {},
   "outputs": [],
   "source": []
  }
 ],
 "metadata": {
  "kernelspec": {
   "display_name": "Python 3",
   "language": "python",
   "name": "python3"
  },
  "language_info": {
   "codemirror_mode": {
    "name": "ipython",
    "version": 3
   },
   "file_extension": ".py",
   "mimetype": "text/x-python",
   "name": "python",
   "nbconvert_exporter": "python",
   "pygments_lexer": "ipython3",
   "version": "3.7.6"
  }
 },
 "nbformat": 4,
 "nbformat_minor": 4
}
